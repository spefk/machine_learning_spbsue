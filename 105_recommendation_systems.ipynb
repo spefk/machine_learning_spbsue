{
 "cells": [
  {
   "cell_type": "markdown",
   "metadata": {},
   "source": [
    "# <center> 5. Recommendation systems"
   ]
  },
  {
   "cell_type": "markdown",
   "metadata": {},
   "source": [
    "- Recommendation system functions;\n",
    "- Comparison of User-based and Item-based approaches."
   ]
  },
  {
   "cell_type": "code",
   "execution_count": 14,
   "metadata": {},
   "outputs": [],
   "source": [
    "from IPython.core.interactiveshell import InteractiveShell\n",
    "InteractiveShell.ast_node_interactivity = 'all'\n",
    "\n",
    "import numpy as np\n",
    "import pandas as pd\n",
    "from tqdm import tqdm\n",
    "from sklearn.metrics import mean_squared_error\n",
    "from scipy import spatial"
   ]
  },
  {
   "cell_type": "code",
   "execution_count": 15,
   "metadata": {},
   "outputs": [],
   "source": [
    "##### Jupyter notebook theme setup:\n",
    "# !pip install jupyterthemes\n",
    "!jt -t gruvboxd -fs 95 -tfs 11 -nfs 115 -cellw 80% -T\n",
    "##### Reset theme:\n",
    "# !jt -r\n",
    "##### Plot style:\n",
    "from jupyterthemes import jtplot\n",
    "jtplot.style()\n",
    "\n",
    "# Reload page after cell evaluation"
   ]
  },
  {
   "cell_type": "code",
   "execution_count": 16,
   "metadata": {
    "id": "bPLgWoWj3oXl"
   },
   "outputs": [
    {
     "data": {
      "text/html": [
       "<div>\n",
       "<style scoped>\n",
       "    .dataframe tbody tr th:only-of-type {\n",
       "        vertical-align: middle;\n",
       "    }\n",
       "\n",
       "    .dataframe tbody tr th {\n",
       "        vertical-align: top;\n",
       "    }\n",
       "\n",
       "    .dataframe thead th {\n",
       "        text-align: right;\n",
       "    }\n",
       "</style>\n",
       "<table border=\"1\" class=\"dataframe\">\n",
       "  <thead>\n",
       "    <tr style=\"text-align: right;\">\n",
       "      <th>item_id</th>\n",
       "      <th>1</th>\n",
       "      <th>2</th>\n",
       "      <th>3</th>\n",
       "      <th>4</th>\n",
       "      <th>5</th>\n",
       "      <th>6</th>\n",
       "      <th>7</th>\n",
       "      <th>8</th>\n",
       "      <th>9</th>\n",
       "      <th>10</th>\n",
       "      <th>...</th>\n",
       "      <th>1673</th>\n",
       "      <th>1674</th>\n",
       "      <th>1675</th>\n",
       "      <th>1676</th>\n",
       "      <th>1677</th>\n",
       "      <th>1678</th>\n",
       "      <th>1679</th>\n",
       "      <th>1680</th>\n",
       "      <th>1681</th>\n",
       "      <th>1682</th>\n",
       "    </tr>\n",
       "    <tr>\n",
       "      <th>user_id</th>\n",
       "      <th></th>\n",
       "      <th></th>\n",
       "      <th></th>\n",
       "      <th></th>\n",
       "      <th></th>\n",
       "      <th></th>\n",
       "      <th></th>\n",
       "      <th></th>\n",
       "      <th></th>\n",
       "      <th></th>\n",
       "      <th></th>\n",
       "      <th></th>\n",
       "      <th></th>\n",
       "      <th></th>\n",
       "      <th></th>\n",
       "      <th></th>\n",
       "      <th></th>\n",
       "      <th></th>\n",
       "      <th></th>\n",
       "      <th></th>\n",
       "      <th></th>\n",
       "    </tr>\n",
       "  </thead>\n",
       "  <tbody>\n",
       "    <tr>\n",
       "      <th>1</th>\n",
       "      <td>5.0</td>\n",
       "      <td>3.0</td>\n",
       "      <td>4.0</td>\n",
       "      <td>3.0</td>\n",
       "      <td>3.0</td>\n",
       "      <td>5.0</td>\n",
       "      <td>4.0</td>\n",
       "      <td>1.0</td>\n",
       "      <td>5.0</td>\n",
       "      <td>3.0</td>\n",
       "      <td>...</td>\n",
       "      <td>NaN</td>\n",
       "      <td>NaN</td>\n",
       "      <td>NaN</td>\n",
       "      <td>NaN</td>\n",
       "      <td>NaN</td>\n",
       "      <td>NaN</td>\n",
       "      <td>NaN</td>\n",
       "      <td>NaN</td>\n",
       "      <td>NaN</td>\n",
       "      <td>NaN</td>\n",
       "    </tr>\n",
       "    <tr>\n",
       "      <th>2</th>\n",
       "      <td>4.0</td>\n",
       "      <td>NaN</td>\n",
       "      <td>NaN</td>\n",
       "      <td>NaN</td>\n",
       "      <td>NaN</td>\n",
       "      <td>NaN</td>\n",
       "      <td>NaN</td>\n",
       "      <td>NaN</td>\n",
       "      <td>NaN</td>\n",
       "      <td>2.0</td>\n",
       "      <td>...</td>\n",
       "      <td>NaN</td>\n",
       "      <td>NaN</td>\n",
       "      <td>NaN</td>\n",
       "      <td>NaN</td>\n",
       "      <td>NaN</td>\n",
       "      <td>NaN</td>\n",
       "      <td>NaN</td>\n",
       "      <td>NaN</td>\n",
       "      <td>NaN</td>\n",
       "      <td>NaN</td>\n",
       "    </tr>\n",
       "    <tr>\n",
       "      <th>3</th>\n",
       "      <td>NaN</td>\n",
       "      <td>NaN</td>\n",
       "      <td>NaN</td>\n",
       "      <td>NaN</td>\n",
       "      <td>NaN</td>\n",
       "      <td>NaN</td>\n",
       "      <td>NaN</td>\n",
       "      <td>NaN</td>\n",
       "      <td>NaN</td>\n",
       "      <td>NaN</td>\n",
       "      <td>...</td>\n",
       "      <td>NaN</td>\n",
       "      <td>NaN</td>\n",
       "      <td>NaN</td>\n",
       "      <td>NaN</td>\n",
       "      <td>NaN</td>\n",
       "      <td>NaN</td>\n",
       "      <td>NaN</td>\n",
       "      <td>NaN</td>\n",
       "      <td>NaN</td>\n",
       "      <td>NaN</td>\n",
       "    </tr>\n",
       "  </tbody>\n",
       "</table>\n",
       "<p>3 rows × 1682 columns</p>\n",
       "</div>"
      ],
      "text/plain": [
       "item_id  1     2     3     4     5     6     7     8     9     10    ...  \\\n",
       "user_id                                                              ...   \n",
       "1         5.0   3.0   4.0   3.0   3.0   5.0   4.0   1.0   5.0   3.0  ...   \n",
       "2         4.0   NaN   NaN   NaN   NaN   NaN   NaN   NaN   NaN   2.0  ...   \n",
       "3         NaN   NaN   NaN   NaN   NaN   NaN   NaN   NaN   NaN   NaN  ...   \n",
       "\n",
       "item_id  1673  1674  1675  1676  1677  1678  1679  1680  1681  1682  \n",
       "user_id                                                              \n",
       "1         NaN   NaN   NaN   NaN   NaN   NaN   NaN   NaN   NaN   NaN  \n",
       "2         NaN   NaN   NaN   NaN   NaN   NaN   NaN   NaN   NaN   NaN  \n",
       "3         NaN   NaN   NaN   NaN   NaN   NaN   NaN   NaN   NaN   NaN  \n",
       "\n",
       "[3 rows x 1682 columns]"
      ]
     },
     "execution_count": 16,
     "metadata": {},
     "output_type": "execute_result"
    }
   ],
   "source": [
    "df = pd.read_csv('data/u.data', sep='\\t', header=None)\n",
    "df.columns = ['user_id', 'item_id', 'rating', 'timestamp']\n",
    "\n",
    "df = df.pivot(index='user_id', columns='item_id', values='rating')\n",
    "df.head(3)"
   ]
  },
  {
   "cell_type": "markdown",
   "metadata": {},
   "source": [
    "# Functions"
   ]
  },
  {
   "cell_type": "markdown",
   "metadata": {},
   "source": [
    "DFCarrier will carry dataframe, and for predprocessing of it.\n",
    "\n",
    "Recommendator will inherit DFCarrier methods and will manage main recomendation functions."
   ]
  },
  {
   "cell_type": "code",
   "execution_count": 17,
   "metadata": {},
   "outputs": [],
   "source": [
    "class DFCarrier():\n",
    "    \"\"\"\n",
    "    Gets raw dataframe where Rows are Users, Columns are Items,\n",
    "    and values a_{x, k} is user's x rating of item k.\n",
    "    \"\"\"\n",
    "    def __init__(self, data_frame: pd.DataFrame, c_constant=50, neighbours_max=10):\n",
    "        self.df = data_frame\n",
    "        # clear rows with only one unique entrie as anomaly\n",
    "        self.df = self.df[self.df.apply(lambda t: len(t.dropna().unique()), axis=1) > 1]\n",
    "        self.c = c_constant\n",
    "        self.maxN = neighbours_max\n",
    "        \n",
    "        self.df_centered = None\n",
    "        self.df_mu_std = None\n",
    "        \n",
    "        self.get_centered_df()\n",
    "        self.get_mu_std()\n",
    "        \n",
    "        self.users = self.df_centered.index\n",
    "        self.items = self.df_centered.columns\n",
    "    \n",
    "    def get_centered_df(self) -> None:\n",
    "        # make user ratings centered\n",
    "        self.df_centered = self.df.apply(lambda x: x - x.mean(), axis=1)\n",
    "        pass\n",
    "    \n",
    "    def get_mu_std(self) -> None:\n",
    "        self.df_mu_std = pd.DataFrame({'mean': self.df.apply(lambda x: x.mean(), axis=1),\n",
    "                                       'std': self.df.apply(lambda x: x.std(), axis=1)})\n",
    "        pass"
   ]
  },
  {
   "cell_type": "code",
   "execution_count": 18,
   "metadata": {},
   "outputs": [],
   "source": [
    "class Recommendator(DFCarrier):\n",
    "    \"\"\"\n",
    "    Gives recommendations in different ways.\n",
    "    \"\"\"\n",
    "    def similarity_ubcf(self, u1_ind, u2_ind) -> float:    \n",
    "        u1 = self.df_centered.loc[u1_ind]\n",
    "        u2 = self.df_centered.loc[u2_ind]\n",
    "        mask = np.invert(u1.isna() | u2.isna())\n",
    "        if mask.sum() > 0:\n",
    "            u1 = u1[mask]\n",
    "            u2 = u2[mask]\n",
    "            c = min(1, sum(mask) / self.c)\n",
    "            return c * np.dot(u1, u2) / np.linalg.norm(u1) / np.linalg.norm(u2)\n",
    "        else:\n",
    "            return 0\n",
    "    \n",
    "    def get_nearest_neighbors_ubcf(self, u_ind, n=None) -> list:\n",
    "        if n == None:\n",
    "            n = self.maxN\n",
    "        vec_ = [(user, self.similarity_ubcf(u_ind, user)) for user in self.users if user != u_ind]\n",
    "        return sorted(vec_, key=(lambda x: -x[1]))[:n]\n",
    "    \n",
    "    def user_based_cf(self, u_ind, n=None) -> pd.Series:\n",
    "        if n == None:\n",
    "            n = self.maxN\n",
    "        # nearest neighbours\n",
    "        nn, nn_dist = list(map(np.array, zip(*self.get_nearest_neighbors_ubcf(u_ind, n=n))))\n",
    "        nn_std = self.df_mu_std.loc[nn]['std']\n",
    "        # mean score among nn\n",
    "        dist_sigma_centered_df = self.df_centered.loc[nn].apply(lambda col:\n",
    "                                                       sum(\n",
    "                                                           (\n",
    "                                                                 col\n",
    "                                                               * nn_dist\n",
    "                                                               / nn_std\n",
    "                                                           ).fillna(0)\n",
    "                                                       )\n",
    "                                                       / sum(nn_dist[col.notna()]) if sum(col.notna() >= 1) else np.nan\n",
    "                                                      )\n",
    "        return self.df_mu_std.loc[u_ind]['mean'] + self.df_mu_std.loc[u_ind]['std'] * dist_sigma_centered_df\n",
    "    \n",
    "    def similarity_ibcf(self, i1_ind, i2_ind) -> float:    \n",
    "        i1 = self.df.loc[:, i1_ind]\n",
    "        i2 = self.df.loc[:, i2_ind]\n",
    "        mask = np.invert(i1.isna() | i2.isna())\n",
    "        if mask.sum() > 0:\n",
    "            i1 = (i1 - self.df_mu_std['mean'])[mask]\n",
    "            i2 = (i2 - self.df_mu_std['mean'])[mask]\n",
    "            return np.dot(i1, i2) / np.linalg.norm(i1) / np.linalg.norm(i2)\n",
    "        else:\n",
    "            return 0\n",
    "\n",
    "    def get_nearest_neighbors_ibcf(self, i_ind, n=None) -> list:\n",
    "        if n == None:\n",
    "            n = self.maxN\n",
    "        vec_ = [(item, self.similarity_ibcf(i_ind, item)) for item in self.items if item != i_ind]\n",
    "        return sorted(vec_, key=(lambda x: -x[1]))[:n]\n",
    "\n",
    "    def item_based_cf(self, i_ind, n=None) -> pd.Series:\n",
    "        if n == None:\n",
    "            n = self.maxN\n",
    "        # nearest neighbours\n",
    "        nn, nn_dist = list(map(np.array, zip(*self.get_nearest_neighbors_ibcf(i_ind, n=n))))\n",
    "        # mean score among\n",
    "        return self.df.loc[:, nn].apply(lambda row: row.dropna().mean() if row.dropna().mean() > 0 else np.nan, axis=1)\n"
   ]
  },
  {
   "cell_type": "code",
   "execution_count": 19,
   "metadata": {},
   "outputs": [],
   "source": [
    "rater = Recommendator(df, neighbours_max=100)"
   ]
  },
  {
   "cell_type": "code",
   "execution_count": 20,
   "metadata": {},
   "outputs": [
    {
     "data": {
      "text/plain": [
       "0.1299134830082074"
      ]
     },
     "execution_count": 20,
     "metadata": {},
     "output_type": "execute_result"
    },
    {
     "data": {
      "text/plain": [
       "1.0"
      ]
     },
     "execution_count": 20,
     "metadata": {},
     "output_type": "execute_result"
    },
    {
     "data": {
      "text/plain": [
       "-0.1383777336500316"
      ]
     },
     "execution_count": 20,
     "metadata": {},
     "output_type": "execute_result"
    },
    {
     "data": {
      "text/plain": [
       "1.0"
      ]
     },
     "execution_count": 20,
     "metadata": {},
     "output_type": "execute_result"
    }
   ],
   "source": [
    "rater.similarity_ubcf(1, 2)\n",
    "rater.similarity_ubcf(1, 1)\n",
    "rater.similarity_ibcf(1, 2)\n",
    "rater.similarity_ibcf(1, 1)"
   ]
  },
  {
   "cell_type": "markdown",
   "metadata": {},
   "source": [
    "## RMSE"
   ]
  },
  {
   "cell_type": "code",
   "execution_count": 21,
   "metadata": {
    "id": "JCwvTXZs4siF"
   },
   "outputs": [
    {
     "data": {
      "text/plain": [
       "0.7208518849189018"
      ]
     },
     "execution_count": 21,
     "metadata": {},
     "output_type": "execute_result"
    }
   ],
   "source": [
    "u = 1\n",
    "ub_1 = rater.user_based_cf(u)\n",
    "mask = ub_1.notna() & df.loc[u].notna()\n",
    "mean_squared_error(ub_1[mask], df.loc[u][mask])"
   ]
  },
  {
   "cell_type": "code",
   "execution_count": 22,
   "metadata": {
    "id": "9koMIqAi42Ul"
   },
   "outputs": [
    {
     "data": {
      "text/plain": [
       "0.6656881241274473"
      ]
     },
     "execution_count": 22,
     "metadata": {},
     "output_type": "execute_result"
    }
   ],
   "source": [
    "i = 1\n",
    "ib_1 = rater.item_based_cf(i)\n",
    "mask = ib_1.notna() & df.loc[:, i].notna()\n",
    "mean_squared_error(ib_1[mask], df.loc[:, i][mask])"
   ]
  },
  {
   "cell_type": "code",
   "execution_count": 23,
   "metadata": {},
   "outputs": [
    {
     "name": "stderr",
     "output_type": "stream",
     "text": [
      " 30%|████████████████████████▉                                                          | 3/10 [00:07<00:17,  2.55s/it]<ipython-input-18-97a229c538c2>:13: RuntimeWarning: invalid value encountered in double_scalars\n",
      "  return c * np.dot(u1, u2) / np.linalg.norm(u1) / np.linalg.norm(u2)\n",
      "<ipython-input-18-97a229c538c2>:31: RuntimeWarning: invalid value encountered in double_scalars\n",
      "  sum(\n",
      " 40%|█████████████████████████████████▏                                                 | 4/10 [00:10<00:14,  2.49s/it]<ipython-input-18-97a229c538c2>:13: RuntimeWarning: invalid value encountered in double_scalars\n",
      "  return c * np.dot(u1, u2) / np.linalg.norm(u1) / np.linalg.norm(u2)\n",
      " 70%|██████████████████████████████████████████████████████████                         | 7/10 [00:17<00:07,  2.49s/it]<ipython-input-18-97a229c538c2>:13: RuntimeWarning: invalid value encountered in double_scalars\n",
      "  return c * np.dot(u1, u2) / np.linalg.norm(u1) / np.linalg.norm(u2)\n",
      " 80%|██████████████████████████████████████████████████████████████████▍                | 8/10 [00:20<00:05,  2.50s/it]<ipython-input-18-97a229c538c2>:13: RuntimeWarning: invalid value encountered in double_scalars\n",
      "  return c * np.dot(u1, u2) / np.linalg.norm(u1) / np.linalg.norm(u2)\n",
      "100%|██████████████████████████████████████████████████████████████████████████████████| 10/10 [00:25<00:00,  2.53s/it]\n"
     ]
    },
    {
     "data": {
      "text/plain": [
       "0.7195612756509975"
      ]
     },
     "execution_count": 23,
     "metadata": {},
     "output_type": "execute_result"
    }
   ],
   "source": [
    "true_vector = np.array([])\n",
    "predict_vector = np.array([])\n",
    "for u in tqdm(df.index[:10]):\n",
    "    ub = rater.user_based_cf(u)\n",
    "    mask = ub.notna() & df.loc[u].notna()\n",
    "    true_vector = np.hstack([true_vector, ub[mask]])\n",
    "    predict_vector = np.hstack([predict_vector, df.loc[u][mask]])\n",
    "mean_squared_error(true_vector, predict_vector)"
   ]
  },
  {
   "cell_type": "markdown",
   "metadata": {},
   "source": [
    "function works slowly, so we will check only on 10 samples."
   ]
  },
  {
   "cell_type": "code",
   "execution_count": 24,
   "metadata": {},
   "outputs": [
    {
     "name": "stderr",
     "output_type": "stream",
     "text": [
      " 40%|█████████████████████████████████▏                                                 | 4/10 [00:09<00:13,  2.33s/it]<ipython-input-18-97a229c538c2>:49: RuntimeWarning: invalid value encountered in double_scalars\n",
      "  return np.dot(i1, i2) / np.linalg.norm(i1) / np.linalg.norm(i2)\n",
      "100%|██████████████████████████████████████████████████████████████████████████████████| 10/10 [00:22<00:00,  2.24s/it]\n"
     ]
    },
    {
     "data": {
      "text/plain": [
       "0.5833780598920654"
      ]
     },
     "execution_count": 24,
     "metadata": {},
     "output_type": "execute_result"
    }
   ],
   "source": [
    "true_vector = np.array([])\n",
    "predict_vector = np.array([])\n",
    "for i in tqdm(df.columns[:10]):\n",
    "    ib = rater.item_based_cf(i)\n",
    "    mask = ib.notna() & df.loc[:, i].notna()\n",
    "    true_vector = np.hstack([true_vector, ib[mask]])\n",
    "    predict_vector = np.hstack([predict_vector, df.loc[:, i][mask]])\n",
    "mean_squared_error(true_vector, predict_vector)"
   ]
  },
  {
   "cell_type": "markdown",
   "metadata": {},
   "source": [
    "## Hyperparams"
   ]
  },
  {
   "cell_type": "code",
   "execution_count": 526,
   "metadata": {},
   "outputs": [],
   "source": [
    "users = df.index\n",
    "am = [(df.loc[x] * df.loc[y]).notna().sum() for x in users for y in users]"
   ]
  },
  {
   "cell_type": "code",
   "execution_count": 538,
   "metadata": {},
   "outputs": [
    {
     "data": {
      "text/plain": [
       "<AxesSubplot:ylabel='Frequency'>"
      ]
     },
     "execution_count": 538,
     "metadata": {},
     "output_type": "execute_result"
    },
    {
     "data": {
      "image/png": "[encoded data removed]",
      "text/plain": [
       "<Figure size 460.8x403.2 with 1 Axes>"
      ]
     },
     "metadata": {},
     "output_type": "display_data"
    }
   ],
   "source": [
    "amS = pd.Series(am)\n",
    "amS[amS <= 100].plot.hist(bins=50)"
   ]
  },
  {
   "cell_type": "markdown",
   "metadata": {},
   "source": [
    "Main part of pairs has ~< 20 of intersections, so $K \\approx 20$ is enough."
   ]
  },
  {
   "cell_type": "code",
   "execution_count": 25,
   "metadata": {},
   "outputs": [
    {
     "name": "stderr",
     "output_type": "stream",
     "text": [
      " 30%|████████████████████████▉                                                          | 3/10 [00:07<00:16,  2.38s/it]<ipython-input-18-97a229c538c2>:13: RuntimeWarning: invalid value encountered in double_scalars\n",
      "  return c * np.dot(u1, u2) / np.linalg.norm(u1) / np.linalg.norm(u2)\n",
      " 40%|█████████████████████████████████▏                                                 | 4/10 [00:09<00:13,  2.28s/it]<ipython-input-18-97a229c538c2>:13: RuntimeWarning: invalid value encountered in double_scalars\n",
      "  return c * np.dot(u1, u2) / np.linalg.norm(u1) / np.linalg.norm(u2)\n",
      " 70%|██████████████████████████████████████████████████████████                         | 7/10 [00:15<00:06,  2.24s/it]<ipython-input-18-97a229c538c2>:13: RuntimeWarning: invalid value encountered in double_scalars\n",
      "  return c * np.dot(u1, u2) / np.linalg.norm(u1) / np.linalg.norm(u2)\n",
      " 80%|██████████████████████████████████████████████████████████████████▍                | 8/10 [00:18<00:04,  2.32s/it]<ipython-input-18-97a229c538c2>:13: RuntimeWarning: invalid value encountered in double_scalars\n",
      "  return c * np.dot(u1, u2) / np.linalg.norm(u1) / np.linalg.norm(u2)\n",
      "100%|██████████████████████████████████████████████████████████████████████████████████| 10/10 [00:23<00:00,  2.37s/it]\n"
     ]
    },
    {
     "data": {
      "text/plain": [
       "0.7494925480051209"
      ]
     },
     "execution_count": 25,
     "metadata": {},
     "output_type": "execute_result"
    }
   ],
   "source": [
    "true_vector = np.array([])\n",
    "predict_vector = np.array([])\n",
    "for u in tqdm(df.index[:10]):\n",
    "    ub = rater.user_based_cf(u, 20)\n",
    "    mask = ub.notna() & df.loc[u].notna()\n",
    "    true_vector = np.hstack([true_vector, ub[mask]])\n",
    "    predict_vector = np.hstack([predict_vector, df.loc[u][mask]])\n",
    "mean_squared_error(true_vector, predict_vector)"
   ]
  },
  {
   "cell_type": "code",
   "execution_count": 26,
   "metadata": {},
   "outputs": [
    {
     "name": "stderr",
     "output_type": "stream",
     "text": [
      " 40%|█████████████████████████████████▏                                                 | 4/10 [00:09<00:14,  2.36s/it]<ipython-input-18-97a229c538c2>:49: RuntimeWarning: invalid value encountered in double_scalars\n",
      "  return np.dot(i1, i2) / np.linalg.norm(i1) / np.linalg.norm(i2)\n",
      "100%|██████████████████████████████████████████████████████████████████████████████████| 10/10 [00:24<00:00,  2.41s/it]\n"
     ]
    },
    {
     "data": {
      "text/plain": [
       "0.38768237501905195"
      ]
     },
     "execution_count": 26,
     "metadata": {},
     "output_type": "execute_result"
    }
   ],
   "source": [
    "true_vector = np.array([])\n",
    "predict_vector = np.array([])\n",
    "for i in tqdm(df.columns[:10]):\n",
    "    ib = rater.item_based_cf(i, 20)\n",
    "    mask = ib.notna() & df.loc[:, i].notna()\n",
    "    true_vector = np.hstack([true_vector, ib[mask]])\n",
    "    predict_vector = np.hstack([predict_vector, df.loc[:, i][mask]])\n",
    "mean_squared_error(true_vector, predict_vector)"
   ]
  },
  {
   "cell_type": "markdown",
   "metadata": {},
   "source": [
    "User-based became better, and item-based became worse"
   ]
  },
  {
   "cell_type": "code",
   "execution_count": null,
   "metadata": {},
   "outputs": [],
   "source": []
  }
 ],
 "metadata": {
  "colab": {
   "collapsed_sections": [],
   "name": "lesson_06.ipynb",
   "provenance": []
  },
  "kernelspec": {
   "display_name": "Python 3",
   "language": "python",
   "name": "python3"
  },
  "language_info": {
   "codemirror_mode": {
    "name": "ipython",
    "version": 3
   },
   "file_extension": ".py",
   "mimetype": "text/x-python",
   "name": "python",
   "nbconvert_exporter": "python",
   "pygments_lexer": "ipython3",
   "version": "3.8.8"
  }
 },
 "nbformat": 4,
 "nbformat_minor": 1
}
